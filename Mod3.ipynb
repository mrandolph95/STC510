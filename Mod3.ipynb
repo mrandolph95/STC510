{
 "cells": [
  {
   "cell_type": "markdown",
   "id": "312d07b2",
   "metadata": {},
   "source": [
    "\n",
    "We appreciated your help in stepping in during a bit of an exigent situation. We have a bit calmer of a task for you and one suited to a \"Sun Devil.\" We have some basic crime data for Phoenix (here (Links to an external site.)) and we need to make better sense of it. We want to know where different kinds of crimes are occurring, in which areas crime is growing fastest (or dropping fastest), and whether certain crimes are more common in certain areas of the city. Basically, we don't need maps or anything at this stage, just some data grouped by location (either the type of location or the zip codes) and some trend data.\n",
    "\n",
    "I mean, if you have the time for a bit of a challenge, we would love for you to bring in some other data to help draw a better picture around this. Are there some factors that affect the crime rate? If there are, we could see if there were ways to see where crime was more likely. We might even ask you to head up our new Pre-Crime unit in the Valley."
   ]
  },
  {
   "cell_type": "markdown",
   "id": "5cc1347b",
   "metadata": {},
   "source": [
    "For this badge you will be working exclusively with an openly available collection of crime stats for the Phoenix area (Links to an external site.). You need to import this data and make some sense of it. That might include some combination of:\n",
    "\n",
    "    Grouping crimes by location type or by zip code (or groups of zip codes).\n",
    "\n",
    "    Or, on the contrary, looking at types of crimes and where they are most common.\n",
    "\n",
    "    Would be good to know which areas have the fastest growing and shrinking crime rates.\n",
    "\n",
    "    Might even be worth grouping crimes by violent and non-violent?\n",
    "\n",
    "This is a fairly simple set of data and can be cut in a range of ways. Think about what useful (and \"actionable\") data \n",
    "might be of interest here, from the perspective of law enforcement or of residents, and how to group and gather this appropriately."
   ]
  },
  {
   "cell_type": "code",
   "execution_count": 239,
   "id": "a47bbaf6",
   "metadata": {},
   "outputs": [],
   "source": [
    "# import necessary packages\n",
    "import numpy as np\n",
    "import pandas as pd\n",
    "import matplotlib.pyplot as plt"
   ]
  },
  {
   "cell_type": "code",
   "execution_count": null,
   "id": "32dd4f36",
   "metadata": {},
   "outputs": [],
   "source": [
    "import zipfile\n",
    "import csv"
   ]
  },
  {
   "cell_type": "code",
   "execution_count": 228,
   "id": "56840aab",
   "metadata": {},
   "outputs": [],
   "source": [
    "# imported seaborn as I wanted to make my data pretty. Was not succesful but keeping this here so I can try again\n",
    "# later\n",
    "import seaborn as sns\n",
    "sns.set(color_codes=True)"
   ]
  },
  {
   "cell_type": "code",
   "execution_count": 262,
   "id": "36f72a66",
   "metadata": {},
   "outputs": [
    {
     "data": {
      "text/html": [
       "<svg  width=\"550\" height=\"55\"><rect x=\"0\" y=\"0\" width=\"55\" height=\"55\" style=\"fill:#1f77b4;stroke-width:2;stroke:rgb(255,255,255)\"/><rect x=\"55\" y=\"0\" width=\"55\" height=\"55\" style=\"fill:#ff7f0e;stroke-width:2;stroke:rgb(255,255,255)\"/><rect x=\"110\" y=\"0\" width=\"55\" height=\"55\" style=\"fill:#2ca02c;stroke-width:2;stroke:rgb(255,255,255)\"/><rect x=\"165\" y=\"0\" width=\"55\" height=\"55\" style=\"fill:#d62728;stroke-width:2;stroke:rgb(255,255,255)\"/><rect x=\"220\" y=\"0\" width=\"55\" height=\"55\" style=\"fill:#9467bd;stroke-width:2;stroke:rgb(255,255,255)\"/><rect x=\"275\" y=\"0\" width=\"55\" height=\"55\" style=\"fill:#8c564b;stroke-width:2;stroke:rgb(255,255,255)\"/><rect x=\"330\" y=\"0\" width=\"55\" height=\"55\" style=\"fill:#e377c2;stroke-width:2;stroke:rgb(255,255,255)\"/><rect x=\"385\" y=\"0\" width=\"55\" height=\"55\" style=\"fill:#7f7f7f;stroke-width:2;stroke:rgb(255,255,255)\"/><rect x=\"440\" y=\"0\" width=\"55\" height=\"55\" style=\"fill:#bcbd22;stroke-width:2;stroke:rgb(255,255,255)\"/><rect x=\"495\" y=\"0\" width=\"55\" height=\"55\" style=\"fill:#17becf;stroke-width:2;stroke:rgb(255,255,255)\"/></svg>"
      ],
      "text/plain": [
       "[(0.12156862745098039, 0.4666666666666667, 0.7058823529411765),\n",
       " (1.0, 0.4980392156862745, 0.054901960784313725),\n",
       " (0.17254901960784313, 0.6274509803921569, 0.17254901960784313),\n",
       " (0.8392156862745098, 0.15294117647058825, 0.1568627450980392),\n",
       " (0.5803921568627451, 0.403921568627451, 0.7411764705882353),\n",
       " (0.5490196078431373, 0.33725490196078434, 0.29411764705882354),\n",
       " (0.8901960784313725, 0.4666666666666667, 0.7607843137254902),\n",
       " (0.4980392156862745, 0.4980392156862745, 0.4980392156862745),\n",
       " (0.7372549019607844, 0.7411764705882353, 0.13333333333333333),\n",
       " (0.09019607843137255, 0.7450980392156863, 0.8117647058823529)]"
      ]
     },
     "execution_count": 262,
     "metadata": {},
     "output_type": "execute_result"
    }
   ],
   "source": [
    "# this is the color palette I want to use when I sucessfully use seaborn\n",
    "sns.color_palette(\"tab10\")"
   ]
  },
  {
   "cell_type": "markdown",
   "id": "d333e1ed",
   "metadata": {},
   "source": [
    "Adding link to notebook so I can reference later:\n",
    "\n",
    "https://stackoverflow.com/questions/18016037/pandas-parsererror-eof-character-when-reading-multiple-csv-files-to-hdf5"
   ]
  },
  {
   "cell_type": "markdown",
   "id": "ccc2b320",
   "metadata": {},
   "source": [
    "Added the quoting=csv.QUOTE_NONE because was getting parsing error. Per stack Overflow, this will bypass that error by removing unecessary characters."
   ]
  },
  {
   "cell_type": "code",
   "execution_count": null,
   "id": "96f20782",
   "metadata": {},
   "outputs": [],
   "source": [
    "crimes = pd.read_csv('crimestat.csv', quoting=csv.QUOTE_NONE)"
   ]
  },
  {
   "cell_type": "code",
   "execution_count": 211,
   "id": "de08e7c2",
   "metadata": {},
   "outputs": [],
   "source": [
    "# renaming column titles to remove quotation marks\n",
    "crimes.rename(columns={'\"OCCURRED ON\"':'Occurred_On', '\"OCCURRED TO\"':'Occurred_To', '\"ZIP\"':'Zip', \n",
    "                       '\"UCR CRIME CATEGORY\"':'Crime_Category', '\"100 BLOCK ADDR\"':'Address', \n",
    "                       '\"PREMISE TYPE\"':'Home_Type','\"INC NUMBER\"':'Inc_Number'}, inplace=True)"
   ]
  },
  {
   "cell_type": "markdown",
   "id": "64b774f1",
   "metadata": {},
   "source": [
    "Link that showed how to map for me to reference in the future:\n",
    "https://stackoverflow.com/questions/67039036/changing-category-names-in-a-pandas-data-frame"
   ]
  },
  {
   "cell_type": "code",
   "execution_count": 215,
   "id": "6fdcea4c",
   "metadata": {},
   "outputs": [],
   "source": [
    "# adding mapping to remove quotation marks around the types of crimes\n",
    "crimes['Crime_Category'] = crimes['Crime_Category'].replace(mapping, regex=True)"
   ]
  },
  {
   "cell_type": "code",
   "execution_count": 216,
   "id": "cfd03ba3",
   "metadata": {},
   "outputs": [],
   "source": [
    "mapping = {r'\"LARCENY-THEFT\"':'Larceny_Theft',r'\"BURGLARY\"':'Burglary',r'\"MOTOR VEHICLE THEFT\"':'Motor_Vehicle_Theft',\n",
    "                             r'\"DRUG OFFENSE\"':'Drug_Offense',r'\"AGGRAVATED ASSAULT\"':'Aggravated_Assault',r'\"ROBBERY\"':'Robbery',\n",
    "                             r'\"RAPE\"':'Rape', r'\"ARSON\"':'Arson', r'\"MURDER AND NON-NEGLIGENT MANSLAUGHTER\"':'Murder_Manslaughter'}"
   ]
  },
  {
   "cell_type": "code",
   "execution_count": 232,
   "id": "a1ab6aac",
   "metadata": {},
   "outputs": [
    {
     "data": {
      "text/plain": [
       "Inc_Number        131673\n",
       "Occurred_On        83138\n",
       "Occurred_To        66576\n",
       "Crime_Category         9\n",
       "Address            29254\n",
       "Zip                   98\n",
       "Home_Type             94\n",
       "dtype: int64"
      ]
     },
     "execution_count": 232,
     "metadata": {},
     "output_type": "execute_result"
    }
   ],
   "source": [
    "# this shows me how much data is in each column so I can determine what to group\n",
    "crimes.nunique()"
   ]
  },
  {
   "cell_type": "code",
   "execution_count": 213,
   "id": "833912dc",
   "metadata": {},
   "outputs": [],
   "source": [
    "# this sorts by the \"Inc Number\"\n",
    "crimes.sort_index(inplace=True)"
   ]
  },
  {
   "cell_type": "code",
   "execution_count": 217,
   "id": "52dcba0a",
   "metadata": {},
   "outputs": [
    {
     "data": {
      "text/plain": [
       "Larceny_Theft          66216\n",
       "Burglary               23648\n",
       "Motor_Vehicle_Theft    14391\n",
       "Drug_Offense            9572\n",
       "Aggravated_Assault      9306\n",
       "Robbery                 5640\n",
       "Rape                    1981\n",
       "Arson                    634\n",
       "Murder_Manslaughter      289\n",
       "Name: Crime_Category, dtype: int64"
      ]
     },
     "execution_count": 217,
     "metadata": {},
     "output_type": "execute_result"
    }
   ],
   "source": [
    "# this shows how many crimes fall into each category\n",
    "crimes.Crime_Category.value_counts()"
   ]
  },
  {
   "cell_type": "markdown",
   "id": "c958f215",
   "metadata": {},
   "source": [
    "df['Label'] = df['Label'].astype('category')"
   ]
  },
  {
   "cell_type": "markdown",
   "id": "23f29ed8",
   "metadata": {},
   "source": [
    "Series.cat.rename_categories: \n",
    "df['Label'] = df['Label'].cat.rename_categories({'zero': 0,\n"
   ]
  },
  {
   "cell_type": "code",
   "execution_count": 218,
   "id": "1184215d",
   "metadata": {},
   "outputs": [
    {
     "data": {
      "text/plain": [
       "\"85015\"    6963\n",
       "\"85008\"    6320\n",
       "\"85009\"    5513\n",
       "\"85041\"    5477\n",
       "\"85051\"    5389\n",
       "           ... \n",
       "\"85203\"       1\n",
       "\"85266\"       1\n",
       "\"85381\"       1\n",
       "\"85268\"       1\n",
       "\"85212\"       1\n",
       "Name: Zip, Length: 98, dtype: int64"
      ]
     },
     "execution_count": 218,
     "metadata": {},
     "output_type": "execute_result"
    }
   ],
   "source": [
    "# this shows how many crimes occured in each zip code. Most interested in 85015 because it has the most.\n",
    "crimes.Zip.value_counts()"
   ]
  },
  {
   "cell_type": "code",
   "execution_count": 219,
   "id": "ee670936",
   "metadata": {},
   "outputs": [
    {
     "data": {
      "text/plain": [
       "\"SINGLE FAMILY HOUSE\"                    25329\n",
       "\"APARTMENT\"                              14957\n",
       "\"PARKING LOT\"                            14148\n",
       "\"STREET / ROADWAY / ALLEY / SIDEWALK\"    11596\n",
       "\"RETAIL BUSINESS\"                        10852\n",
       "                                         ...  \n",
       "\"GAMBLING FACILITY/CASINO/RACE TRACK\"        2\n",
       "\"LAKE / WATERWAY / BEACH\"                    1\n",
       "\"TRIBAL LANDS\"                               1\n",
       "\"REST AREA\"                                  1\n",
       "\"A                                           1\n",
       "Name: Home_Type, Length: 94, dtype: int64"
      ]
     },
     "execution_count": 219,
     "metadata": {},
     "output_type": "execute_result"
    }
   ],
   "source": [
    "# this shows the number of crimes by premise type\n",
    "crimes.Home_Type.value_counts()"
   ]
  },
  {
   "cell_type": "code",
   "execution_count": 220,
   "id": "22132453",
   "metadata": {},
   "outputs": [],
   "source": [
    "# grouping data by zip code\n",
    "zip_code_group = crimes.groupby('Zip')"
   ]
  },
  {
   "cell_type": "code",
   "execution_count": 221,
   "id": "b5aac1d9",
   "metadata": {},
   "outputs": [
    {
     "data": {
      "text/html": [
       "<div>\n",
       "<style scoped>\n",
       "    .dataframe tbody tr th:only-of-type {\n",
       "        vertical-align: middle;\n",
       "    }\n",
       "\n",
       "    .dataframe tbody tr th {\n",
       "        vertical-align: top;\n",
       "    }\n",
       "\n",
       "    .dataframe thead th {\n",
       "        text-align: right;\n",
       "    }\n",
       "</style>\n",
       "<table border=\"1\" class=\"dataframe\">\n",
       "  <thead>\n",
       "    <tr style=\"text-align: right;\">\n",
       "      <th></th>\n",
       "      <th>Inc_Number</th>\n",
       "      <th>Occurred_On</th>\n",
       "      <th>Occurred_To</th>\n",
       "      <th>Crime_Category</th>\n",
       "      <th>Address</th>\n",
       "      <th>Zip</th>\n",
       "      <th>Home_Type</th>\n",
       "    </tr>\n",
       "  </thead>\n",
       "  <tbody>\n",
       "    <tr>\n",
       "      <th>17</th>\n",
       "      <td>\"201500002102467\"</td>\n",
       "      <td>11/01/2015  00:01</td>\n",
       "      <td>11/01/2015  11:15</td>\n",
       "      <td>Larceny_Theft</td>\n",
       "      <td>\"65XX N 17TH AVE\"</td>\n",
       "      <td>\"85015\"</td>\n",
       "      <td>\"VEHICLE\"</td>\n",
       "    </tr>\n",
       "    <tr>\n",
       "      <th>49</th>\n",
       "      <td>\"201500002102369\"</td>\n",
       "      <td>11/01/2015  07:50</td>\n",
       "      <td>11/01/2015  11:00</td>\n",
       "      <td>Larceny_Theft</td>\n",
       "      <td>\"34XX N 23RD AVE\"</td>\n",
       "      <td>\"85015\"</td>\n",
       "      <td>\"SINGLE FAMILY HOUSE\"</td>\n",
       "    </tr>\n",
       "    <tr>\n",
       "      <th>70</th>\n",
       "      <td>\"201500002109064\"</td>\n",
       "      <td>11/01/2015  12:00</td>\n",
       "      <td>11/02/2015  05:30</td>\n",
       "      <td>Motor_Vehicle_Theft</td>\n",
       "      <td>\"47XX N BLACK CANYON AC\"</td>\n",
       "      <td>\"85015\"</td>\n",
       "      <td>\"APARTMENT\"</td>\n",
       "    </tr>\n",
       "    <tr>\n",
       "      <th>150</th>\n",
       "      <td>\"201500002118996\"</td>\n",
       "      <td>11/01/2015  21:00</td>\n",
       "      <td>11/01/2015  22:30</td>\n",
       "      <td>Motor_Vehicle_Theft</td>\n",
       "      <td>\"21XX W FLOWER ST\"</td>\n",
       "      <td>\"85015\"</td>\n",
       "      <td>\"PARKING LOT\"</td>\n",
       "    </tr>\n",
       "    <tr>\n",
       "      <th>157</th>\n",
       "      <td>\"201500002113992\"</td>\n",
       "      <td>11/01/2015  23:00</td>\n",
       "      <td>11/02/2015  06:30</td>\n",
       "      <td>Rape</td>\n",
       "      <td>\"20XX W BETHANY HOME RD\"</td>\n",
       "      <td>\"85015\"</td>\n",
       "      <td>\"APARTMENT\"</td>\n",
       "    </tr>\n",
       "    <tr>\n",
       "      <th>...</th>\n",
       "      <td>...</td>\n",
       "      <td>...</td>\n",
       "      <td>...</td>\n",
       "      <td>...</td>\n",
       "      <td>...</td>\n",
       "      <td>...</td>\n",
       "      <td>...</td>\n",
       "    </tr>\n",
       "    <tr>\n",
       "      <th>131603</th>\n",
       "      <td>\"201700002022605\"</td>\n",
       "      <td>11/16/2017  19:00</td>\n",
       "      <td>NaN</td>\n",
       "      <td>Aggravated_Assault</td>\n",
       "      <td>\"17XX W MISSOURI AVE\"</td>\n",
       "      <td>\"85015\"</td>\n",
       "      <td>\"PARKING LOT\"</td>\n",
       "    </tr>\n",
       "    <tr>\n",
       "      <th>131605</th>\n",
       "      <td>\"201700002025317\"</td>\n",
       "      <td>11/16/2017  19:30</td>\n",
       "      <td>11/17/2017  07:30</td>\n",
       "      <td>Larceny_Theft</td>\n",
       "      <td>\"24XX W CAMPBELL AVE\"</td>\n",
       "      <td>\"85015\"</td>\n",
       "      <td>\"PARKING LOT\"</td>\n",
       "    </tr>\n",
       "    <tr>\n",
       "      <th>131607</th>\n",
       "      <td>\"201700002032749\"</td>\n",
       "      <td>11/16/2017  19:46</td>\n",
       "      <td>NaN</td>\n",
       "      <td>Larceny_Theft</td>\n",
       "      <td>\"17XX W BETHANY HOME RD\"</td>\n",
       "      <td>\"85015\"</td>\n",
       "      <td>\"RETAIL BUSINESS\"</td>\n",
       "    </tr>\n",
       "    <tr>\n",
       "      <th>131626</th>\n",
       "      <td>\"201700002023396\"</td>\n",
       "      <td>11/16/2017  21:46</td>\n",
       "      <td>11/16/2017  21:46</td>\n",
       "      <td>Larceny_Theft</td>\n",
       "      <td>\"56XX N 17TH AVE\"</td>\n",
       "      <td>\"85015\"</td>\n",
       "      <td>\"PARK / PLAYGROUND\"</td>\n",
       "    </tr>\n",
       "    <tr>\n",
       "      <th>131644</th>\n",
       "      <td>\"201700002023753\"</td>\n",
       "      <td>11/16/2017  23:15</td>\n",
       "      <td>NaN</td>\n",
       "      <td>Drug_Offense</td>\n",
       "      <td>\"58XX N 19TH AVE\"</td>\n",
       "      <td>\"85015\"</td>\n",
       "      <td>\"OFFICE / COMMERCIAL BUILDING\"</td>\n",
       "    </tr>\n",
       "  </tbody>\n",
       "</table>\n",
       "<p>6963 rows × 7 columns</p>\n",
       "</div>"
      ],
      "text/plain": [
       "               Inc_Number        Occurred_On        Occurred_To  \\\n",
       "17      \"201500002102467\"  11/01/2015  00:01  11/01/2015  11:15   \n",
       "49      \"201500002102369\"  11/01/2015  07:50  11/01/2015  11:00   \n",
       "70      \"201500002109064\"  11/01/2015  12:00  11/02/2015  05:30   \n",
       "150     \"201500002118996\"  11/01/2015  21:00  11/01/2015  22:30   \n",
       "157     \"201500002113992\"  11/01/2015  23:00  11/02/2015  06:30   \n",
       "...                   ...                ...                ...   \n",
       "131603  \"201700002022605\"  11/16/2017  19:00                NaN   \n",
       "131605  \"201700002025317\"  11/16/2017  19:30  11/17/2017  07:30   \n",
       "131607  \"201700002032749\"  11/16/2017  19:46                NaN   \n",
       "131626  \"201700002023396\"  11/16/2017  21:46  11/16/2017  21:46   \n",
       "131644  \"201700002023753\"  11/16/2017  23:15                NaN   \n",
       "\n",
       "             Crime_Category                   Address      Zip  \\\n",
       "17            Larceny_Theft         \"65XX N 17TH AVE\"  \"85015\"   \n",
       "49            Larceny_Theft         \"34XX N 23RD AVE\"  \"85015\"   \n",
       "70      Motor_Vehicle_Theft  \"47XX N BLACK CANYON AC\"  \"85015\"   \n",
       "150     Motor_Vehicle_Theft        \"21XX W FLOWER ST\"  \"85015\"   \n",
       "157                    Rape  \"20XX W BETHANY HOME RD\"  \"85015\"   \n",
       "...                     ...                       ...      ...   \n",
       "131603   Aggravated_Assault     \"17XX W MISSOURI AVE\"  \"85015\"   \n",
       "131605        Larceny_Theft     \"24XX W CAMPBELL AVE\"  \"85015\"   \n",
       "131607        Larceny_Theft  \"17XX W BETHANY HOME RD\"  \"85015\"   \n",
       "131626        Larceny_Theft         \"56XX N 17TH AVE\"  \"85015\"   \n",
       "131644         Drug_Offense         \"58XX N 19TH AVE\"  \"85015\"   \n",
       "\n",
       "                             Home_Type  \n",
       "17                           \"VEHICLE\"  \n",
       "49               \"SINGLE FAMILY HOUSE\"  \n",
       "70                         \"APARTMENT\"  \n",
       "150                      \"PARKING LOT\"  \n",
       "157                        \"APARTMENT\"  \n",
       "...                                ...  \n",
       "131603                   \"PARKING LOT\"  \n",
       "131605                   \"PARKING LOT\"  \n",
       "131607               \"RETAIL BUSINESS\"  \n",
       "131626             \"PARK / PLAYGROUND\"  \n",
       "131644  \"OFFICE / COMMERCIAL BUILDING\"  \n",
       "\n",
       "[6963 rows x 7 columns]"
      ]
     },
     "execution_count": 221,
     "metadata": {},
     "output_type": "execute_result"
    }
   ],
   "source": [
    "# this shows the crimes in the zip code 85015, which had the most occurances\n",
    "zip_code_group.get_group('\"85015\"')"
   ]
  },
  {
   "cell_type": "code",
   "execution_count": 223,
   "id": "a48c379f",
   "metadata": {},
   "outputs": [],
   "source": [
    "# grouping by home type to get more insight\n",
    "home_type_group = crimes.groupby('Home_Type')"
   ]
  },
  {
   "cell_type": "code",
   "execution_count": 224,
   "id": "def39a6d",
   "metadata": {},
   "outputs": [
    {
     "data": {
      "text/html": [
       "<div>\n",
       "<style scoped>\n",
       "    .dataframe tbody tr th:only-of-type {\n",
       "        vertical-align: middle;\n",
       "    }\n",
       "\n",
       "    .dataframe tbody tr th {\n",
       "        vertical-align: top;\n",
       "    }\n",
       "\n",
       "    .dataframe thead th {\n",
       "        text-align: right;\n",
       "    }\n",
       "</style>\n",
       "<table border=\"1\" class=\"dataframe\">\n",
       "  <thead>\n",
       "    <tr style=\"text-align: right;\">\n",
       "      <th></th>\n",
       "      <th>Inc_Number</th>\n",
       "      <th>Occurred_On</th>\n",
       "      <th>Occurred_To</th>\n",
       "      <th>Crime_Category</th>\n",
       "      <th>Address</th>\n",
       "      <th>Zip</th>\n",
       "      <th>Home_Type</th>\n",
       "    </tr>\n",
       "  </thead>\n",
       "  <tbody>\n",
       "    <tr>\n",
       "      <th>0</th>\n",
       "      <td>\"201600000052855\"</td>\n",
       "      <td>11/01/2015  00:00</td>\n",
       "      <td>01/09/2016  00:00</td>\n",
       "      <td>Motor_Vehicle_Theft</td>\n",
       "      <td>\"N 43RD AVE &amp; W CACTUS RD\"</td>\n",
       "      <td>\"85029\"</td>\n",
       "      <td>\"SINGLE FAMILY HOUSE\"</td>\n",
       "    </tr>\n",
       "    <tr>\n",
       "      <th>1</th>\n",
       "      <td>\"201600000594484\"</td>\n",
       "      <td>11/01/2015  00:00</td>\n",
       "      <td>NaN</td>\n",
       "      <td>Rape</td>\n",
       "      <td>\"13XX E ALMERIA RD\"</td>\n",
       "      <td>\"85006\"</td>\n",
       "      <td>\"SINGLE FAMILY HOUSE\"</td>\n",
       "    </tr>\n",
       "    <tr>\n",
       "      <th>3</th>\n",
       "      <td>\"201500002101405\"</td>\n",
       "      <td>11/01/2015  00:00</td>\n",
       "      <td>11/01/2015  05:00</td>\n",
       "      <td>Motor_Vehicle_Theft</td>\n",
       "      <td>\"102XX W MEDLOCK AVE\"</td>\n",
       "      <td>\"85307\"</td>\n",
       "      <td>\"SINGLE FAMILY HOUSE\"</td>\n",
       "    </tr>\n",
       "    <tr>\n",
       "      <th>4</th>\n",
       "      <td>\"201500002102668\"</td>\n",
       "      <td>11/01/2015  00:00</td>\n",
       "      <td>11/01/2015  11:50</td>\n",
       "      <td>Motor_Vehicle_Theft</td>\n",
       "      <td>\"69XX W WOOD ST\"</td>\n",
       "      <td>\"85043\"</td>\n",
       "      <td>\"SINGLE FAMILY HOUSE\"</td>\n",
       "    </tr>\n",
       "    <tr>\n",
       "      <th>6</th>\n",
       "      <td>\"201700001722914\"</td>\n",
       "      <td>11/01/2015  00:00</td>\n",
       "      <td>NaN</td>\n",
       "      <td>Larceny_Theft</td>\n",
       "      <td>\"279XX N 23RD LN\"</td>\n",
       "      <td>\"85085\"</td>\n",
       "      <td>\"SINGLE FAMILY HOUSE\"</td>\n",
       "    </tr>\n",
       "    <tr>\n",
       "      <th>...</th>\n",
       "      <td>...</td>\n",
       "      <td>...</td>\n",
       "      <td>...</td>\n",
       "      <td>...</td>\n",
       "      <td>...</td>\n",
       "      <td>...</td>\n",
       "      <td>...</td>\n",
       "    </tr>\n",
       "    <tr>\n",
       "      <th>131641</th>\n",
       "      <td>\"201700002025688\"</td>\n",
       "      <td>11/16/2017  23:00</td>\n",
       "      <td>11/17/2017  05:30</td>\n",
       "      <td>Motor_Vehicle_Theft</td>\n",
       "      <td>\"33XX W FRAKTUR RD\"</td>\n",
       "      <td>\"85041\"</td>\n",
       "      <td>\"SINGLE FAMILY HOUSE\"</td>\n",
       "    </tr>\n",
       "    <tr>\n",
       "      <th>131648</th>\n",
       "      <td>\"201700002091707\"</td>\n",
       "      <td>11/17/2017  00:00</td>\n",
       "      <td>11/25/2017  00:00</td>\n",
       "      <td>Burglary</td>\n",
       "      <td>\"4XX E CAROL ANN WAY\"</td>\n",
       "      <td>\"85022\"</td>\n",
       "      <td>\"SINGLE FAMILY HOUSE\"</td>\n",
       "    </tr>\n",
       "    <tr>\n",
       "      <th>131652</th>\n",
       "      <td>\"201700002069932\"</td>\n",
       "      <td>11/17/2017  00:00</td>\n",
       "      <td>11/24/2017  12:02</td>\n",
       "      <td>Burglary</td>\n",
       "      <td>\"192XX N 22ND LN\"</td>\n",
       "      <td>\"85027\"</td>\n",
       "      <td>\"SINGLE FAMILY HOUSE\"</td>\n",
       "    </tr>\n",
       "    <tr>\n",
       "      <th>131666</th>\n",
       "      <td>\"201700002024295\"</td>\n",
       "      <td>11/17/2017  02:48</td>\n",
       "      <td>11/17/2017  02:48</td>\n",
       "      <td>Burglary</td>\n",
       "      <td>\"166XX N 29TH DR\"</td>\n",
       "      <td>\"85053\"</td>\n",
       "      <td>\"SINGLE FAMILY HOUSE\"</td>\n",
       "    </tr>\n",
       "    <tr>\n",
       "      <th>131675</th>\n",
       "      <td>\"201700002030009\"</td>\n",
       "      <td>11/17/2017  05:50</td>\n",
       "      <td>11/17/2017  07:50</td>\n",
       "      <td>Burglary</td>\n",
       "      <td>\"51XX N 39TH DR\"</td>\n",
       "      <td>\"85019\"</td>\n",
       "      <td>\"SINGLE FAMILY HOUSE\"</td>\n",
       "    </tr>\n",
       "  </tbody>\n",
       "</table>\n",
       "<p>25329 rows × 7 columns</p>\n",
       "</div>"
      ],
      "text/plain": [
       "               Inc_Number        Occurred_On        Occurred_To  \\\n",
       "0       \"201600000052855\"  11/01/2015  00:00  01/09/2016  00:00   \n",
       "1       \"201600000594484\"  11/01/2015  00:00                NaN   \n",
       "3       \"201500002101405\"  11/01/2015  00:00  11/01/2015  05:00   \n",
       "4       \"201500002102668\"  11/01/2015  00:00  11/01/2015  11:50   \n",
       "6       \"201700001722914\"  11/01/2015  00:00                NaN   \n",
       "...                   ...                ...                ...   \n",
       "131641  \"201700002025688\"  11/16/2017  23:00  11/17/2017  05:30   \n",
       "131648  \"201700002091707\"  11/17/2017  00:00  11/25/2017  00:00   \n",
       "131652  \"201700002069932\"  11/17/2017  00:00  11/24/2017  12:02   \n",
       "131666  \"201700002024295\"  11/17/2017  02:48  11/17/2017  02:48   \n",
       "131675  \"201700002030009\"  11/17/2017  05:50  11/17/2017  07:50   \n",
       "\n",
       "             Crime_Category                     Address      Zip  \\\n",
       "0       Motor_Vehicle_Theft  \"N 43RD AVE & W CACTUS RD\"  \"85029\"   \n",
       "1                      Rape         \"13XX E ALMERIA RD\"  \"85006\"   \n",
       "3       Motor_Vehicle_Theft       \"102XX W MEDLOCK AVE\"  \"85307\"   \n",
       "4       Motor_Vehicle_Theft            \"69XX W WOOD ST\"  \"85043\"   \n",
       "6             Larceny_Theft           \"279XX N 23RD LN\"  \"85085\"   \n",
       "...                     ...                         ...      ...   \n",
       "131641  Motor_Vehicle_Theft         \"33XX W FRAKTUR RD\"  \"85041\"   \n",
       "131648             Burglary       \"4XX E CAROL ANN WAY\"  \"85022\"   \n",
       "131652             Burglary           \"192XX N 22ND LN\"  \"85027\"   \n",
       "131666             Burglary           \"166XX N 29TH DR\"  \"85053\"   \n",
       "131675             Burglary            \"51XX N 39TH DR\"  \"85019\"   \n",
       "\n",
       "                    Home_Type  \n",
       "0       \"SINGLE FAMILY HOUSE\"  \n",
       "1       \"SINGLE FAMILY HOUSE\"  \n",
       "3       \"SINGLE FAMILY HOUSE\"  \n",
       "4       \"SINGLE FAMILY HOUSE\"  \n",
       "6       \"SINGLE FAMILY HOUSE\"  \n",
       "...                       ...  \n",
       "131641  \"SINGLE FAMILY HOUSE\"  \n",
       "131648  \"SINGLE FAMILY HOUSE\"  \n",
       "131652  \"SINGLE FAMILY HOUSE\"  \n",
       "131666  \"SINGLE FAMILY HOUSE\"  \n",
       "131675  \"SINGLE FAMILY HOUSE\"  \n",
       "\n",
       "[25329 rows x 7 columns]"
      ]
     },
     "execution_count": 224,
     "metadata": {},
     "output_type": "execute_result"
    }
   ],
   "source": [
    "# chose to see this group as single family house had the highest number of crimes\n",
    "home_type_group.get_group('\"SINGLE FAMILY HOUSE\"')"
   ]
  },
  {
   "cell_type": "code",
   "execution_count": 226,
   "id": "672f2f23",
   "metadata": {},
   "outputs": [
    {
     "data": {
      "text/html": [
       "<div>\n",
       "<style scoped>\n",
       "    .dataframe tbody tr th:only-of-type {\n",
       "        vertical-align: middle;\n",
       "    }\n",
       "\n",
       "    .dataframe tbody tr th {\n",
       "        vertical-align: top;\n",
       "    }\n",
       "\n",
       "    .dataframe thead th {\n",
       "        text-align: right;\n",
       "    }\n",
       "</style>\n",
       "<table border=\"1\" class=\"dataframe\">\n",
       "  <thead>\n",
       "    <tr style=\"text-align: right;\">\n",
       "      <th></th>\n",
       "      <th>Inc_Number</th>\n",
       "      <th>Occurred_On</th>\n",
       "      <th>Occurred_To</th>\n",
       "      <th>Crime_Category</th>\n",
       "      <th>Address</th>\n",
       "      <th>Zip</th>\n",
       "      <th>Home_Type</th>\n",
       "    </tr>\n",
       "  </thead>\n",
       "  <tbody>\n",
       "    <tr>\n",
       "      <th>2</th>\n",
       "      <td>\"201500002102327\"</td>\n",
       "      <td>11/01/2015  00:00</td>\n",
       "      <td>11/01/2015  09:00</td>\n",
       "      <td>Larceny_Theft</td>\n",
       "      <td>\"51XX N 15TH ST\"</td>\n",
       "      <td>\"85014\"</td>\n",
       "      <td>\"APARTMENT\"</td>\n",
       "    </tr>\n",
       "    <tr>\n",
       "      <th>9</th>\n",
       "      <td>\"201500002103724\"</td>\n",
       "      <td>11/01/2015  00:00</td>\n",
       "      <td>11/01/2015  15:21</td>\n",
       "      <td>Drug_Offense</td>\n",
       "      <td>\"54XX W INDIAN SCHOOL RD\"</td>\n",
       "      <td>\"85031\"</td>\n",
       "      <td>\"APARTMENT\"</td>\n",
       "    </tr>\n",
       "    <tr>\n",
       "      <th>36</th>\n",
       "      <td>\"201500002102927\"</td>\n",
       "      <td>11/01/2015  04:00</td>\n",
       "      <td>11/01/2015  10:00</td>\n",
       "      <td>Larceny_Theft</td>\n",
       "      <td>\"176XX N 7TH ST\"</td>\n",
       "      <td>\"85022\"</td>\n",
       "      <td>\"APARTMENT\"</td>\n",
       "    </tr>\n",
       "    <tr>\n",
       "      <th>41</th>\n",
       "      <td>\"201500002126247\"</td>\n",
       "      <td>11/01/2015  05:00</td>\n",
       "      <td>11/02/2015  16:00</td>\n",
       "      <td>Burglary</td>\n",
       "      <td>\"17XX W DESERT COVE AVE\"</td>\n",
       "      <td>\"85029\"</td>\n",
       "      <td>\"APARTMENT\"</td>\n",
       "    </tr>\n",
       "    <tr>\n",
       "      <th>59</th>\n",
       "      <td>\"201500002101936\"</td>\n",
       "      <td>11/01/2015  09:43</td>\n",
       "      <td>NaN</td>\n",
       "      <td>Drug_Offense</td>\n",
       "      <td>\"9XX S 17TH AVE\"</td>\n",
       "      <td>\"85007\"</td>\n",
       "      <td>\"APARTMENT\"</td>\n",
       "    </tr>\n",
       "    <tr>\n",
       "      <th>...</th>\n",
       "      <td>...</td>\n",
       "      <td>...</td>\n",
       "      <td>...</td>\n",
       "      <td>...</td>\n",
       "      <td>...</td>\n",
       "      <td>...</td>\n",
       "      <td>...</td>\n",
       "    </tr>\n",
       "    <tr>\n",
       "      <th>131619</th>\n",
       "      <td>\"201700002023142\"</td>\n",
       "      <td>11/16/2017  20:45</td>\n",
       "      <td>NaN</td>\n",
       "      <td>Aggravated_Assault</td>\n",
       "      <td>\"2XX W CLARENDON AVE\"</td>\n",
       "      <td>\"85013\"</td>\n",
       "      <td>\"APARTMENT\"</td>\n",
       "    </tr>\n",
       "    <tr>\n",
       "      <th>131621</th>\n",
       "      <td>\"201700002024423\"</td>\n",
       "      <td>11/16/2017  21:00</td>\n",
       "      <td>11/17/2017  03:30</td>\n",
       "      <td>Burglary</td>\n",
       "      <td>\"38XX N 43RD AVE\"</td>\n",
       "      <td>\"85031\"</td>\n",
       "      <td>\"APARTMENT\"</td>\n",
       "    </tr>\n",
       "    <tr>\n",
       "      <th>131660</th>\n",
       "      <td>\"201700002032068\"</td>\n",
       "      <td>11/17/2017  01:00</td>\n",
       "      <td>11/17/2017  06:00</td>\n",
       "      <td>Motor_Vehicle_Theft</td>\n",
       "      <td>\"200XX N 23RD AVE\"</td>\n",
       "      <td>\"85027\"</td>\n",
       "      <td>\"APARTMENT\"</td>\n",
       "    </tr>\n",
       "    <tr>\n",
       "      <th>131667</th>\n",
       "      <td>\"201700002024361\"</td>\n",
       "      <td>11/17/2017  03:00</td>\n",
       "      <td>11/17/2017  03:20</td>\n",
       "      <td>Aggravated_Assault</td>\n",
       "      <td>\"6XX E TOWNLEY AVE\"</td>\n",
       "      <td>\"85020\"</td>\n",
       "      <td>\"APARTMENT\"</td>\n",
       "    </tr>\n",
       "    <tr>\n",
       "      <th>131673</th>\n",
       "      <td>\"201700002025582\"</td>\n",
       "      <td>11/17/2017  05:00</td>\n",
       "      <td>11/17/2017  09:50</td>\n",
       "      <td>Motor_Vehicle_Theft</td>\n",
       "      <td>\"43XX N 103RD AVE\"</td>\n",
       "      <td>\"85037\"</td>\n",
       "      <td>\"APARTMENT\"</td>\n",
       "    </tr>\n",
       "  </tbody>\n",
       "</table>\n",
       "<p>14957 rows × 7 columns</p>\n",
       "</div>"
      ],
      "text/plain": [
       "               Inc_Number        Occurred_On        Occurred_To  \\\n",
       "2       \"201500002102327\"  11/01/2015  00:00  11/01/2015  09:00   \n",
       "9       \"201500002103724\"  11/01/2015  00:00  11/01/2015  15:21   \n",
       "36      \"201500002102927\"  11/01/2015  04:00  11/01/2015  10:00   \n",
       "41      \"201500002126247\"  11/01/2015  05:00  11/02/2015  16:00   \n",
       "59      \"201500002101936\"  11/01/2015  09:43                NaN   \n",
       "...                   ...                ...                ...   \n",
       "131619  \"201700002023142\"  11/16/2017  20:45                NaN   \n",
       "131621  \"201700002024423\"  11/16/2017  21:00  11/17/2017  03:30   \n",
       "131660  \"201700002032068\"  11/17/2017  01:00  11/17/2017  06:00   \n",
       "131667  \"201700002024361\"  11/17/2017  03:00  11/17/2017  03:20   \n",
       "131673  \"201700002025582\"  11/17/2017  05:00  11/17/2017  09:50   \n",
       "\n",
       "             Crime_Category                    Address      Zip    Home_Type  \n",
       "2             Larceny_Theft           \"51XX N 15TH ST\"  \"85014\"  \"APARTMENT\"  \n",
       "9              Drug_Offense  \"54XX W INDIAN SCHOOL RD\"  \"85031\"  \"APARTMENT\"  \n",
       "36            Larceny_Theft           \"176XX N 7TH ST\"  \"85022\"  \"APARTMENT\"  \n",
       "41                 Burglary   \"17XX W DESERT COVE AVE\"  \"85029\"  \"APARTMENT\"  \n",
       "59             Drug_Offense           \"9XX S 17TH AVE\"  \"85007\"  \"APARTMENT\"  \n",
       "...                     ...                        ...      ...          ...  \n",
       "131619   Aggravated_Assault      \"2XX W CLARENDON AVE\"  \"85013\"  \"APARTMENT\"  \n",
       "131621             Burglary          \"38XX N 43RD AVE\"  \"85031\"  \"APARTMENT\"  \n",
       "131660  Motor_Vehicle_Theft         \"200XX N 23RD AVE\"  \"85027\"  \"APARTMENT\"  \n",
       "131667   Aggravated_Assault        \"6XX E TOWNLEY AVE\"  \"85020\"  \"APARTMENT\"  \n",
       "131673  Motor_Vehicle_Theft         \"43XX N 103RD AVE\"  \"85037\"  \"APARTMENT\"  \n",
       "\n",
       "[14957 rows x 7 columns]"
      ]
     },
     "execution_count": 226,
     "metadata": {},
     "output_type": "execute_result"
    }
   ],
   "source": [
    "# second highest number of crimes within premise type category\n",
    "home_type_group.get_group('\"APARTMENT\"')"
   ]
  },
  {
   "cell_type": "code",
   "execution_count": 250,
   "id": "fb532138",
   "metadata": {},
   "outputs": [
    {
     "data": {
      "text/plain": [
       "<AxesSubplot:xlabel='Zip', ylabel='Count'>"
      ]
     },
     "execution_count": 250,
     "metadata": {},
     "output_type": "execute_result"
    },
    {
     "data": {
      "image/png": "[encoded data removed]",
      "text/plain": [
       "<Figure size 432x288 with 1 Axes>"
      ]
     },
     "metadata": {},
     "output_type": "display_data"
    }
   ],
   "source": [
    "# sns is for seaborn, plot shows the number of crimes by zip code. \n",
    "# (Future Mali, look up how to make the graph more readable)\n",
    "sns.histplot(crimes['Zip'])"
   ]
  },
  {
   "cell_type": "code",
   "execution_count": 271,
   "id": "e09f051a",
   "metadata": {},
   "outputs": [
    {
     "data": {
      "text/plain": [
       "<seaborn.axisgrid.FacetGrid at 0x7fd1f3843850>"
      ]
     },
     "execution_count": 271,
     "metadata": {},
     "output_type": "execute_result"
    },
    {
     "data": {
      "image/png": "[encoded data removed]",
      "text/plain": [
       "<Figure size 360x360 with 1 Axes>"
      ]
     },
     "metadata": {},
     "output_type": "display_data"
    }
   ],
   "source": [
    "# bar that show the number of crimes by category\n",
    "sns.displot(crimes['Crime_Category'])"
   ]
  },
  {
   "cell_type": "code",
   "execution_count": 272,
   "id": "55b65e84",
   "metadata": {},
   "outputs": [
    {
     "data": {
      "text/plain": [
       "<AxesSubplot:xlabel='Zip', ylabel='Crime_Category'>"
      ]
     },
     "execution_count": 272,
     "metadata": {},
     "output_type": "execute_result"
    },
    {
     "data": {
      "image/png": "[encoded data removed]",
      "text/plain": [
       "<Figure size 432x288 with 1 Axes>"
      ]
     },
     "metadata": {},
     "output_type": "display_data"
    }
   ],
   "source": [
    "# scatter plot shows the number of each crime type by zip code\n",
    "sns.scatterplot(x=crimes['Zip'], y=crimes['Crime_Category'])"
   ]
  },
  {
   "cell_type": "code",
   "execution_count": null,
   "id": "82ee3ae4",
   "metadata": {},
   "outputs": [],
   "source": [
    " "
   ]
  }
 ],
 "metadata": {
  "kernelspec": {
   "display_name": "Python 3 (ipykernel)",
   "language": "python",
   "name": "python3"
  },
  "language_info": {
   "codemirror_mode": {
    "name": "ipython",
    "version": 3
   },
   "file_extension": ".py",
   "mimetype": "text/x-python",
   "name": "python",
   "nbconvert_exporter": "python",
   "pygments_lexer": "ipython3",
   "version": "3.9.7"
  }
 },
 "nbformat": 4,
 "nbformat_minor": 5
}
